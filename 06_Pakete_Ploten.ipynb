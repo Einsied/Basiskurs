{
 "cells": [
  {
   "cell_type": "markdown",
   "metadata": {},
   "source": [
    "# Pakete und Plots\n",
    "\n",
    "## Pakete\n",
    "Die Wurzel aus einer Zahl zu ziehen, ist kein triviales, jedoch ein häufiges Problem, mit zahlreichen Lösungen. \n",
    "Man kann die beste Lösung entweder durch das lesen von Fachzeitschriften und langes knobeln selber finden oder man verwendet bereits vorgefertigten Code.\n",
    "\n",
    "Dieser Code wird für Python in sogenannten Paketen verteilt. \n",
    "Dies sind thematische Sammlungen verschiedener Klassen und Funktionen, \n",
    "welche gesammelt zur Verfügung gestellt werden.\n",
    "\n",
    "Die Verwendung eines Paketes wird hier kurz mit numpy gezeigt.\n",
    "Der erste Schritt ist das Modul zu laden oder zu importieren.\n",
    "Anschließend kann der Inhalt genutzt werden.\n",
    "Die Syntax entspricht, dabei dem Aufruf einer Methode."
   ]
  },
  {
   "cell_type": "code",
   "execution_count": null,
   "metadata": {
    "collapsed": false
   },
   "outputs": [],
   "source": [
    "import numpy # Hier erklären wir dem Interpreter, dass wir gerne numpy verwenden möchten\n",
    "a = 5\n",
    "b = numpy.sqrt(a) # Nun rufen wir die Quadratwurzelfunktion numpys auf (beachtet die Ähnlichkeit zum Methodenaufruf)\n",
    "print(b)"
   ]
  },
  {
   "cell_type": "code",
   "execution_count": null,
   "metadata": {
    "collapsed": false
   },
   "outputs": [],
   "source": [
    "import numpy as np # Hier erklären wir dem Interpreter, dass wir gerne numpy verwenden möchten und es np nennen werden\n",
    "a = 5\n",
    "print(np.sqrt(a))"
   ]
  },
  {
   "cell_type": "markdown",
   "metadata": {},
   "source": [
    "## Plotten mit matplotlib\n",
    "Spätestens im Anfängerpraktikum werdet ihr,\n",
    "wie vermutlich auch im Rest eures Studiums Messergebnisse graphisch darstellen müssen.\n",
    "Für kleine Datenmengen kann man dies mit Papier und Bleistift bewerkstelligt werden.\n",
    "Für größere Datenmenge sollte man jedoch einen Computer verwenden.\n",
    "In Python ist dies mit matplotlib möglich.\n",
    "\n",
    "Hier ein kurzes Beispiel:"
   ]
  },
  {
   "cell_type": "code",
   "execution_count": null,
   "metadata": {
    "collapsed": false
   },
   "outputs": [],
   "source": [
    "import matplotlib.pyplot as plt\n",
    "import numpy as np\n",
    "\n",
    "# Erzeugung der x Werte\n",
    "x = np.arange(-10, 10, 0.01)\n",
    "# Berechnung der y Werte\n",
    "y = x**4-x**2\n",
    "\n",
    "plt.plot(x, y)\n",
    "plt.show()"
   ]
  },
  {
   "cell_type": "markdown",
   "metadata": {},
   "source": [
    "Wie ihr sehen könnt verwendet .plot() als Argumente Listen bzw. numpy Arrays.\n",
    "Dies ist sinnvoll, da wir auch in einem Experiment unsere Daten so abspeichern würden.\n",
    "Statt ein echtes Experiment durchzuführen werden wir dies mittels einer Funktion simulieren."
   ]
  },
  {
   "cell_type": "code",
   "execution_count": null,
   "metadata": {
    "collapsed": false
   },
   "outputs": [],
   "source": [
    "import matplotlib.pyplot as plt\n",
    "import numpy as np\n",
    "\n",
    "# Initalisieren der Listen für die Messwerte\n",
    "Zeit = []\n",
    "Spannung = []\n",
    "Stromstärke = []\n",
    "\n",
    "# Hier würden wir eigentlich unser Gerät auslesen\n",
    "def measure (Zeit, Spannung, Stromstärke, i):\n",
    "    # i dient hier als Schrittgeber für unsere Messung\n",
    "    Zeit.append(i/10)\n",
    "    # Hier sind nur ein paar Funktionen, damit der plot interessant aussieht\n",
    "    # Zentral ist, dass die einzelnen Werte appended werden und die Lsiten\n",
    "    # immer weiter wachsen\n",
    "    Spannung.append(abs(np.sin(i/(2*np.pi))))\n",
    "    Stromstärke.append(abs(np.cos(i/(2*np.pi))))\n",
    "    return\n",
    "\n",
    "for i in range(0, 100, 1):\n",
    "    # Hier würde nun das Gerät 100 mal ausgelesen\n",
    "    measure(Zeit, Spannung, Stromstärke, i)\n",
    "\n",
    "# Anschließend können wir nun beides mittels plot anzeigen lassen\n",
    "plt.plot(Zeit,Spannung, Zeit, Stromstärke)\n",
    "plt.show()"
   ]
  },
  {
   "cell_type": "markdown",
   "metadata": {},
   "source": [
    "Matplotlib ist ein sehr nützliches und vielseitiges Paket,\n",
    "in das ihr euch einarbeiten solltet.\n",
    "Es ermöglicht eine Vielzahl verschiedener plots.\n",
    "\n",
    "Für euch noch relevant wäre Histogramme.  \n",
    "Hier ein kurzes Beispiel:"
   ]
  },
  {
   "cell_type": "code",
   "execution_count": null,
   "metadata": {
    "collapsed": false,
    "scrolled": true
   },
   "outputs": [],
   "source": [
    "import matplotlib.pyplot as plt\n",
    "import numpy as np\n",
    "\n",
    "# Initalisieren die x Werte\n",
    "Folgenglieder = 1/np.arange(1, 10, 0.01)\n",
    "\n",
    "# Mit hist erstellen wir nun ein simples Histogram\n",
    "# 50 gibt die Anzahl der bins an\n",
    "plt.hist(Folgenglieder, 50)\n",
    "plt.show()"
   ]
  },
  {
   "cell_type": "markdown",
   "metadata": {},
   "source": [
    "Es ist auch möglich mehrere Plots in einem Plot zu vereinen, \n",
    "um sie zum Beispiel später als einen Dateien abspeichern zu können,\n",
    "dies wird mit \"subplot\" erreicht.\n",
    "\n",
    "Das erste Argument gibt die Anzahl der Subplots in vertikaler,\n",
    "das zweite die Anzahl der Subplots in horizontaler Richtung an.\n",
    "Das dritte Argument gibt die Position des Plots an,\n",
    "welche der Leserichtung folgt.\n",
    "Anschließend sollte noch ein Plot erzeugt werden."
   ]
  },
  {
   "cell_type": "code",
   "execution_count": null,
   "metadata": {
    "collapsed": false
   },
   "outputs": [],
   "source": [
    "import matplotlib.pyplot as plt\n",
    "import numpy as np\n",
    "\n",
    "# Initalisieren die x Werte\n",
    "Folgenglieder = 1/np.arange(1, 10, 0.01)\n",
    "\n",
    "# Als Beispiel generieren wir Histogramme mit verschiednen bin Größen.\n",
    "plt.subplot(3, 2, 1)\n",
    "plt.hist(Folgenglieder, 5)\n",
    "plt.subplot(3, 2, 2)\n",
    "plt.hist(Folgenglieder, 10)\n",
    "plt.subplot(3, 2, 3)\n",
    "plt.hist(Folgenglieder, 25)\n",
    "plt.subplot(3, 2, 4)\n",
    "plt.hist(Folgenglieder, 50)\n",
    "plt.subplot(3, 2, 5)\n",
    "plt.hist(Folgenglieder, 75)\n",
    "plt.subplot(3, 2, 6)\n",
    "plt.hist(Folgenglieder, 100)\n",
    "plt.show()\n",
    "# Wenn ihr show() auskommentiert und das # vor savefig entfernt könnt\n",
    "# ihr die Plots einfach als pdf abspeichern\n",
    "# Wenn ihr show() nicht auskommentiert erhaltet ihr nur eine leere Seite\n",
    "# da der Plot bereits ausgelesen wurde.\n",
    "# plt.savefig(\"Beispiel.pdf\")"
   ]
  }
 ],
 "metadata": {
  "kernelspec": {
   "display_name": "Python 3",
   "language": "python",
   "name": "python3"
  },
  "language_info": {
   "codemirror_mode": {
    "name": "ipython",
    "version": 3
   },
   "file_extension": ".py",
   "mimetype": "text/x-python",
   "name": "python",
   "nbconvert_exporter": "python",
   "pygments_lexer": "ipython3",
   "version": "3.6.0"
  }
 },
 "nbformat": 4,
 "nbformat_minor": 2
}
