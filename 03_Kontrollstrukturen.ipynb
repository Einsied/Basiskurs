{
 "cells": [
  {
   "cell_type": "markdown",
   "metadata": {},
   "source": [
    "# Kontrollstrukturen\n",
    "## Der Kommentar\n",
    "Bisher enthielt jeder Skript nur Anweisungen für den Interpreter. Für komplexere Skripte kann es allerdings auch sinnvoll sein in einigen Zeilen zu beschreiben, was die nächsten Zeilen erreichen sollen, für den Fall, dass man sie später durch andere ersetzen möchte. Für diesen Zweck kann man den Interpreter, mittels „#“, anweisen den Rest einer Zeile zu ignorieren."
   ]
  },
  {
   "cell_type": "code",
   "execution_count": null,
   "metadata": {
    "collapsed": false
   },
   "outputs": [],
   "source": [
    "# Dies ist ein Kommentar\n",
    "\n",
    "# Die nächste Zeile enthält eine normale Anweisung\n",
    "p r i n t ( 5 ) #Auch hinter Anwesungen kann ein Kommentar stehen"
   ]
  },
  {
   "cell_type": "markdown",
   "metadata": {},
   "source": [
    "Leider besitzt Python im Gegensatz zu anderen Sprachen keine Kommentarumgebung, welche sich über mehrere Zeilen erstreckt. Man kann dies mittels Strings umgehen, allerdings kann dies bei größeren Projekten zu Problemen führen.\n",
    "\n",
    "**Alles hinter „#“ wird vom Interpreter ignoriert.**\n",
    "\n",
    "# Boolesche Variablen und Operatoren\n",
    "Häufig möchte man innerhalb eines Programmes eine Bedingung überprüfen\n",
    "zum Beispiel i > 0. Dies geschieht mithilfe von sogenannten Vergleichsoperatoren.\n",
    "* \\> = entspricht $\\geq$\n",
    "* \\> entspricht $>$\n",
    "* <= entspricht $\\leq$\n",
    "* < entspricht $<$\n",
    "* != entspricht $\\neq$\n",
    "* == entspricht =\n",
    "\n",
    "Vor allem die letzen beiden sind etwas ungünstig, da man sie häufig vergisst oder mit dem Zuweisungsoperator verwechselt. Diese Vergleichsoperatoren geben boolesche Variablen zurück, welche Wahrheitswerten entsprechen. Diese können mit booleschen Operatoren verrechnet werden.\n",
    "* „and“ entspricht dem logischen „und“ (∧)\n",
    "* „or“ entspricht dem logischen „oder“ (∨)\n",
    "* „not“ entspricht dem logischen „nicht“ (¬)\n",
    "\n",
    "# Das if-statement\n",
    "Früher oder später werdet ihr Problemen begegnen, welche nicht durch eine lineare Abfolge von Anweisungen gelöst werden können. Für diesen Fall gibt es die „if“-Anweisung. Sie ermöglicht es abhängig von einer Bedingung verschiedene Anweisungen auszuführen. Die „if“ Bedingung benötigt einen booleschen Wert um zu entscheiden, welcher Teil des Skripts ausgeführt werden soll, folglich muss dem „if“ eine boolesche Variable oder ein Term, welcher von einem booleschen oder Vergleichsoperator beherrscht wird, folgen. Hier ist ein Beispiel, in welchem überprüft werden soll, ob eine Zahl gerade ist oder nicht."
   ]
  },
  {
   "cell_type": "code",
   "execution_count": null,
   "metadata": {
    "collapsed": false
   },
   "outputs": [],
   "source": [
    "# Hier soll eine beliebige Zahl eingetragen werden\n",
    "a = 4.2\n",
    "# Nun nutzen wir den Modulo Operator (%)\n",
    "# um den Rest der Division\n",
    "# durch 2 zu bestimmen\n",
    "Rest = a%2\n",
    "# Nun wollen wir für  verschiedene Rest−werte verschiedenen Strings \n",
    "# ausgeben\n",
    "if ( Rest == 0 ) : # Die Klammern sind nicht nötig\n",
    "    # D i e s e r Block wird ausgeführt falls der Rest 0 war\n",
    "    print( \"Die  Zahl ist gerade\" )\n",
    "elif ( Rest == 1 ) :\n",
    "    # elif ist eine optionale Anweisung, welche ausgeführt wird \n",
    "    # falls die if-Bedingung nichterfüllt wurde und die elif \n",
    "    # Bedingung erfüllt ist .\n",
    "    print( \"Die Zahl ist ungerade\" )\n",
    "else :\n",
    "    # else ist eine optionale Anweisung , welche ausgeführt wird\n",
    "    # wenn weder ie if-Bedingung noch die elif Bedingungen erfüllt \n",
    "    # wurden .\n",
    "    print( \"Die Zahl ist eine Fließkommazahl\" )"
   ]
  },
  {
   "cell_type": "markdown",
   "metadata": {},
   "source": [
    "In Python dienen Einrückung zur Markierung von Skript-/Code-Blöcken. Deshalb kann nicht beliebig eingerückt werden. Alles was nicht Teil des „if“-Blocks ist wird nach diesem ausgeführt. Man kann so Beispielsweise einen Hinweis ausgeben."
   ]
  },
  {
   "cell_type": "code",
   "execution_count": null,
   "metadata": {
    "collapsed": false
   },
   "outputs": [],
   "source": [
    "# Hier soll eine beliebige Zahl eingetragen werden\n",
    "a = 4\n",
    "if a%2 == 0 :\n",
    "    print(\"Die Zahl ist gerade\")\n",
    "print(\"Das Quadrat der Zahl ist:\")\n",
    "print(a**2)"
   ]
  },
  {
   "cell_type": "markdown",
   "metadata": {},
   "source": [
    "**Kontrollstrukturen bestehen aus einen Schlüsselwort meist gefolgt von einer Bedingung und einem Anweisungsblock. Beispiel: if (True): do something**"
   ]
  },
  {
   "cell_type": "markdown",
   "metadata": {},
   "source": [
    "# Quadratzahlen\n",
    "Ein wichtiger Teil des Programmierens ist das recherchieren von Funktionen und ähnlichem. Dies ist der erste Teil der Aufgabe. Sucht einen Weg Zahlen  einzulesen, so das ihr den Skript für verschiedene Zahlen verwenden\n",
    "könnt ohne das Skript zu verändern. Der zweite Teil der Aufgabe ist ein Skript zu schreiben, welches das Quadrat einer Zahl berechnet. Eine zweite Zahl davon subtrahiert und anschließend bestimmt ob das Ergebnis gerade oder ungerade ist und eine entsprechende Text Meldung zurückgibt."
   ]
  },
  {
   "cell_type": "code",
   "execution_count": null,
   "metadata": {
    "collapsed": true
   },
   "outputs": [],
   "source": [
    "# Bitte hier programmieren"
   ]
  }
 ],
 "metadata": {
  "kernelspec": {
   "display_name": "Python 3",
   "language": "python",
   "name": "python3"
  },
  "language_info": {
   "codemirror_mode": {
    "name": "ipython",
    "version": 3
   },
   "file_extension": ".py",
   "mimetype": "text/x-python",
   "name": "python",
   "nbconvert_exporter": "python",
   "pygments_lexer": "ipython3",
   "version": "3.6.0"
  }
 },
 "nbformat": 4,
 "nbformat_minor": 2
}
