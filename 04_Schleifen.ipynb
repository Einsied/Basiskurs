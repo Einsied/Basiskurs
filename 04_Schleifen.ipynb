{
 "cells": [
  {
   "cell_type": "markdown",
   "metadata": {},
   "source": [
    "# Schleifen\n",
    "## Die „while“-Schleife\n",
    "In einigen Fällen möchte man eine Aktion wiederholen, bis eine bestimmte Bedingung erfüllt ist. Dies geschieht mittels der „while“-Schleife. Diese ähnelt dem „if“, da sie ebenfalls aus einer Bedingung und einem Anweisungsblock besteht. Dieser Block wird jedoch nicht nur einmal ausgeführt sondern so lange die Bedingung wahr ist. Ein einfaches, wenn auch sinnloses Beispiel, ist eine naive Implementierung der Division mit Rest."
   ]
  },
  {
   "cell_type": "code",
   "execution_count": null,
   "metadata": {
    "collapsed": false
   },
   "outputs": [],
   "source": [
    "# Zuerst lesen wir die beiden integer ein\n",
    "Dividend = int( input(\"Dividend?:\"))\n",
    "Divisor = int(input(\"Divisor?:\" ))\n",
    "# Nun legen wir den Quotienten an\n",
    "Quotient = 0\n",
    "# Solange der Dividend größer/gleich dem Divisor ist\n",
    "# wird die Schleife ausgeführt\n",
    "while(Dividend >= Divisor):\n",
    "    # Zuerst erhöhen wir den Quotienten um 1\n",
    "    Quotient += 1\n",
    "    # Dann ziehen wir vom Dividend den Divisor ab\n",
    "    Dividend -= Divisor\n",
    "\n",
    "# Sobald diese Schleife durchlaufen ist verbleibt der\n",
    "# Rest im Dividend und das Ergebnis kann ausgegeben werden\n",
    "\n",
    "# Um eine schönere Ausgabe zu erhalten kombinieren wir\n",
    "# mehrere Strings.\n",
    "# Um die Lesbarkeit zu verbessern wurden die einzelnen\n",
    "# Strings ein gerückt , was innerhalb der Klammern\n",
    "# möglich ist .\n",
    "print (\n",
    "    \"Quotient: \"\n",
    "    + str(Quotient)\n",
    "    +\"; Rest: \"\n",
    "    + str(Dividend)\n",
    ")\n",
    "# Die Division in einem Computer funktioniert nicht s o ."
   ]
  },
  {
   "cell_type": "markdown",
   "metadata": {},
   "source": [
    "## Die „for“-Schleife\n",
    "Eine spezielle Variante der „while“-Schleife ist die „for“-Schleife. In diesem Falle enthält die Bedingung einen Zähler, welcher von einer bestimmten Zahl zu einer anderen zählt. Diese Variante wird so häufig verwendet, dass sie gesondert als „for“ zur Verfügung steht.\n",
    "Als simples Beispiel wollen wir $\\sum_{k=2}^{n} q^{k}$ berechnen."
   ]
  },
  {
   "cell_type": "code",
   "execution_count": null,
   "metadata": {
    "collapsed": false
   },
   "outputs": [],
   "source": [
    "# Einlesen der Variablen\n",
    "q = float(input(\"q?:\"))\n",
    "n = int(input(\"Summe bis?:\" ) )\n",
    "\n",
    "Summe = 0\n",
    "for k in range( 2, n+1, 1 ):\n",
    "    Summe += q**k\n",
    "print(Summe)"
   ]
  },
  {
   "cell_type": "markdown",
   "metadata": {},
   "source": [
    "## Nutzung von „break“ und „continue“\n",
    "In einigen Fällen will man eine Schleife ausführen bis eine bestimmte Bedingung erfüllt ist. Dies kann mit der „break“-Anweisung erreicht werden. Wird diese erreicht überspringt das Programm alle weiteren Anweisungen innerhalb der Schleife und verlässt diese."
   ]
  },
  {
   "cell_type": "code",
   "execution_count": null,
   "metadata": {
    "collapsed": false
   },
   "outputs": [],
   "source": [
    "for k in range (1, 10, 1):\n",
    "    if (k == 6):\n",
    "        break\n",
    "    print (k)"
   ]
  },
  {
   "cell_type": "markdown",
   "metadata": {},
   "source": [
    "Dieses Programm gibt 1,2,3,4,5 aus. Die 6 wird nicht ausgegeben, da die „break“Anweisung zu erst erreicht wird. Die „continue“ führt genau wie die „break“-Anweisung zum überspringen aller folgenden Anweisungen beendet jedoch nicht den Schleifendurchlauf."
   ]
  },
  {
   "cell_type": "code",
   "execution_count": null,
   "metadata": {
    "collapsed": false
   },
   "outputs": [],
   "source": [
    "for k in range (1, 10, 1):\n",
    "    if (k == 6):\n",
    "        continue\n",
    "    print (k)"
   ]
  },
  {
   "cell_type": "markdown",
   "metadata": {},
   "source": [
    "Deshalb gibt dieses Programm 1,2,3,4,5,7,8,9 aus. Die 6 wird durch „continue“-Anweisung übersprungen."
   ]
  },
  {
   "cell_type": "markdown",
   "metadata": {},
   "source": [
    "## Fakultät\n",
    "Zuerst soll mithilfe der „for“ die Fakultät einer während der Ausführung wählbaren Natürlichen Zahl n berechnet werden."
   ]
  },
  {
   "cell_type": "code",
   "execution_count": null,
   "metadata": {
    "collapsed": true
   },
   "outputs": [],
   "source": [
    "# Bitte hier programmieren"
   ]
  },
  {
   "cell_type": "markdown",
   "metadata": {},
   "source": [
    "## Newton Verfahren\n",
    "Nun soll mithilfe der „while“ Schleife, ein Näherungswert für eine Wurzel berechnet werden. Hierzu verwenden wir das Newton-verfahren, in welchem ausgehend von einem geratenen Startwert, über mehrere Iterationsschritte ein Näherungswert bestimmt wird. Die Iterationsformel lautet:\n",
    "$$ x_{n+1} = x_{n}−\\frac{f(x_{n})}{f'(x_{n})}$$\n",
    "In unserem Falle gilt $f(x) = x^{2} − a $ womit wir folgende Iterationsformel erhalten:\n",
    "$$x_{n+1} = x_{n} − \\frac{x^{2}_{n} − a}{2x_{n}}$$\n",
    "Um die erreichte Genauigkeit abzuschätzen, hoffen wir das dieses Verfahren schön konvergiert und nutzen die Differenz $x_{n+1} − x_{n}$.\n",
    "Ziel ist es einen Skript zu schreiben, welcher für eine gegebene natürliche Zahl a die Quadratwurzel mit einer gegebenen Genauigkeit $b$ bestimmt."
   ]
  },
  {
   "cell_type": "code",
   "execution_count": null,
   "metadata": {
    "collapsed": true
   },
   "outputs": [],
   "source": [
    "# Bitte hier programmieren"
   ]
  }
 ],
 "metadata": {
  "kernelspec": {
   "display_name": "Python 3",
   "language": "python",
   "name": "python3"
  },
  "language_info": {
   "codemirror_mode": {
    "name": "ipython",
    "version": 3
   },
   "file_extension": ".py",
   "mimetype": "text/x-python",
   "name": "python",
   "nbconvert_exporter": "python",
   "pygments_lexer": "ipython3",
   "version": "3.6.0"
  }
 },
 "nbformat": 4,
 "nbformat_minor": 2
}
