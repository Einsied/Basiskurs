{
 "cells": [
  {
   "cell_type": "markdown",
   "metadata": {},
   "source": [
    "# Funktionen und Listen\n",
    "## Listen\n",
    "„Für a in range(start, end, step) “ ist eine seltsame Formulierung. Was genau sucht das „in“ hier? Die Antwort darauf ist relativ simpel. „range()“ ist kein notwendiger Bestandteil der „for“-Schleife, stattdessen ist es eine Funktion welche einen komplexen Datentyp vom Typ „list“ generiert.\n",
    "Wir wollen sie hier nur als Array verwenden. Als solche ist sie eine Ansammlung von Speicherzellen oder Variablen, welche über eine Zahl adressiert werden können. Hier ein kurzes Beispiel:"
   ]
  },
  {
   "cell_type": "code",
   "execution_count": null,
   "metadata": {
    "collapsed": false
   },
   "outputs": [],
   "source": [
    "# Erstellen einer Liste mit Zahlen\n",
    "Liste = [0, 1, 2, 3, 4]\n",
    "# Die Zahlen entsprechen hier ihrer Position in der Liste\n",
    "# ( Arrays und Listen starten bei 0)\n",
    "# Nun können wir gezielt einen Wert ausgeben lassen\n",
    "print(Liste[1])\n",
    "# Oder ändern\n",
    "Liste[1] = 17\n",
    "print(Liste[1])\n",
    "# Python i s t im Gegensatz zu klassischen\n",
    "# Programmiersprachen (c++) in der Lage Variablen\n",
    "# verschiedenen Typen in einer Liste abzulegen\n",
    "Liste[1] = \"Hans\"\n",
    "print(Liste[ 1 ])\n",
    "# Dies kann katastrophal enden (\"Hans\"/ 2)"
   ]
  },
  {
   "cell_type": "markdown",
   "metadata": {},
   "source": [
    "## Funktionen\n",
    "Beim erstellen komplexerer Programme ist es nützlich Funktionen zu definieren, um die Übersichtlichkeit zu erhöhen. Diese nehmen Argumente entgegen und geben ein Ergebnis zurück. Als Beispiel wandeln wir unser Newton-Wurzel-Verfahren in eine Funktion um."
   ]
  },
  {
   "cell_type": "code",
   "execution_count": null,
   "metadata": {
    "collapsed": false
   },
   "outputs": [],
   "source": [
    "# Zuerst benennen wir die Funktion und geben ihre\n",
    "# Argumente an\n",
    "def Newton( a, b):\n",
    "    x_old = 1\n",
    "    # Berechne x (Das ist eine do−while Konstruktion)\n",
    "    x = x_old-(x_old**2-a)/(2*x_old)\n",
    "    # Iterative Bestimmung von x\n",
    "    while(abs(x-x_old) > b):\n",
    "        x_old = x\n",
    "        x = x-(x**2-a)/(2*x)\n",
    "    # Hier geben wir das Ergebnis x zurück\n",
    "    return x\n",
    "\n",
    "# Nun verwenden wir die Funktion\n",
    "x = Newton(2, 0.0001)\n",
    "print(x)\n",
    "\n",
    "# Sie kann auch in einer anderen Funktion gerufen\n",
    "# werden\n",
    "print(Newton( 3,0.0001))"
   ]
  },
  {
   "cell_type": "markdown",
   "metadata": {},
   "source": [
    "Man kann eine Funktion auch rekursiv definieren. Dann ruft sie sich selbst auf. Als Beispiel betrachten wir die rekursiv definierte Fakultät von n:"
   ]
  },
  {
   "cell_type": "code",
   "execution_count": null,
   "metadata": {
    "collapsed": false
   },
   "outputs": [],
   "source": [
    "def Fakultät(n):\n",
    "    if(n == 0):\n",
    "        return 1\n",
    "    else :\n",
    "        return Fakultät(n-1) * n"
   ]
  },
  {
   "cell_type": "markdown",
   "metadata": {},
   "source": [
    "## Call-by-object-reference\n",
    "Python verwendet für die Übergabe von Parametern an Funktionen ein Konzept welches als „call-by-object-reference“ beschrieben werden kann.\n",
    "\n",
    "Die meisten Programmiersprachen verwenden stattdessen zwei Konzepte namens „call-by-value“ und „call-by-reference“. Ich persönlich bin der Meinung, dass diese Konzepte einfacher zu verstehen sind als Pythons „call-by-object-reference“, weshalb ich sie zuerst erläutern werde.\n",
    "Um diese Konzepte zu verstehen erinnern wir uns daran, dass der Arbeitsspeicher aus Speicherzellen mit Adressen besteht.\n",
    "\n",
    "Beim Aufruf einer Funktion können wir dieser den Inhalt einer Speicherzelle übergeben, dabei wird intern eine neue Speicherzelle mit gleichem Inhalt angelegt. Somit kann die Funktion den ursprünglichen Wert nicht mehr verändern. Dies bezeichnet man als „call-by-value“.\n",
    "\n",
    "Alternativ können wir der Funktion auch die Adresse der Speicherzelle übergeben, so dass sie diese nutzen kann. Jede Änderung des Wertes in der Funktion verwendet nun also auch den Wert in der ursprünglichen Speicherzelle. Was die Laufzeit und den Speicherbedarf von Programmen erheblich verbessern kann. Dieses Konzept nennt man „call-by-reference“.\n",
    "\n",
    "Python kombiniert beides als „call-by-object-reference“, hierbei ist jede Variable ein Zeiger auf eine Speicherzelle. Diese Speicherzelle enthält nun entweder einen komplexen Datentyp, welcher auf weitere Speicherzellen verweist, oder eine Zeichenkette 1 oder einen primitiven Datentyp.\n",
    "Enthält sie einen komplexen Datentyp, so verhält sich die Referenz wie „call-by-reference“. Enthält sie eine Zeichenkette oder einen primitiven Datentypen, so verhält sich die Referenz wie „call-by-value“.\n",
    "\n",
    "**Primitive Datentypen können, im Gegensatz zu komplexen, in einer Funktion nicht verändert werde**"
   ]
  },
  {
   "cell_type": "code",
   "execution_count": null,
   "metadata": {
    "collapsed": false
   },
   "outputs": [],
   "source": [
    "# Diese Funktion nimmt eine Zeichenkette als Argument entgegen.\n",
    "# Folglich wird die als Eingabe verwendete Variable nicht verändert.\n",
    "def greet1 (Name):\n",
    "    Name = \"Hallo \" + Name\n",
    "    print(Name)\n",
    "    return\n",
    "\n",
    "a = \"Klaus\"\n",
    "greet1(a)\n",
    "# Ausgabe: \"Hallo Klaus\"\n",
    "print(a)\n",
    "# Ausgabe: \"Klaus\"\n",
    "\n",
    "# Diese Funktion nimmt einen komplexen Datentyp als Argument entgegen.\n",
    "# Folglich kann dieser verändert werden.\n",
    "def greet2 (Name):\n",
    "    # Hier wird der 0. Eintrag der Liste überschrieben\n",
    "    # => Die Liste enthält nun einen neuen Eintrag\n",
    "    Name[0] = \"Hallo \" + Name[0]\n",
    "    print(Name[0])\n",
    "    return\n",
    "\n",
    "b = [\"Klaus\"]\n",
    "greet2(b)\n",
    "# Ausgabe: \"Hallo Klaus\"\n",
    "print(b)\n",
    "# Ausgabe: \"['Hallo Klaus']\"\n",
    "\n",
    "# Diese Funktion nimmt einen komplexen Datentyp als Argument entgegen.\n",
    "# Folglich könnte dieser verändert werden.\n",
    "\n",
    "def greet3 (Name):\n",
    "    # Hier wird der Zeiger auf eine neue Liste gesetzt,\n",
    "    # diese heißt zur Verwirrung ebenfalls \"Name\".\n",
    "    # Die ursprüngliche Liste beleibt dabei jedoch unverändert\n",
    "    Name = [\"Hallo \" + Name[0]]\n",
    "    print(Name[0])\n",
    "    return\n",
    "\n",
    "c = [\"Klaus\"]\n",
    "greet3(c)\n",
    "# Ausgabe: \"Hallo Klaus\"\n",
    "print(c)\n",
    "# Ausgabe: \"['Klaus']\""
   ]
  },
  {
   "cell_type": "markdown",
   "metadata": {},
   "source": [
    "## Methoden\n",
    "Es ist möglich Daten und Funktionen zusammenzufassen. Das Ergebnis nennt man eine Klasse. Hierbei handelt es sich um einen komplexen Datentyp. Klassen sind sehr mächtige Werkzeuge und ein zentrales Konzept der Programmierung.\n",
    "Vermutlich werdet Ihr in den nächsten Jahren keine Klassen selbst schreiben müssen. Allerdings werdet Ihr mit ihnen umgehen müssen. Im Grunde sind Methoden Funktionen, welche auf eine spezielle Variablen angewandt werden. Am besten demonstrieren wir dies an der Klasse „list“."
   ]
  },
  {
   "cell_type": "code",
   "execution_count": null,
   "metadata": {
    "collapsed": false
   },
   "outputs": [],
   "source": [
    "# Zuerster stellen wir eine Liste mit Strings\n",
    "Liste = [\"Apfel\", \"Banane\", \"Kiwi\", \"Orange\", \"Birne\", \"Nashi\"]\n",
    "# Nun sortieren wir die Liste alphabetisch und geben sie aus\n",
    "Liste.sort()\n",
    "print(Liste)\n",
    "# print() liefert nun:\n",
    "# ['Apfel', 'Banane', 'Birne', 'Kiwi', 'Nashi', 'Orange']\n",
    "# Nun fügen wir nach der zweiten Stelle \"Pflaume\" ein\n",
    "Liste.insert( 2, \"Pflaume\")\n",
    "print(Liste)\n",
    "# print() liefert nun:\n",
    "# ['Apfel', 'Banane', 'Pflaume', 'Birne', 'Kiwi', 'Nashi', 'Orange']"
   ]
  },
  {
   "cell_type": "markdown",
   "metadata": {},
   "source": [
    "## Ackermann\n",
    "Ein Beispiel für eine rekursive nicht primitiv rekursive Funktion ist die Ackermannfunktion. Ihre Argumente sind natürliche Zahlen.\n",
    "\n",
    "$ \\mathrm{Ackermann}(n,m) = m+1 $; für $n=0$  \n",
    "$ \\mathrm{Ackermann}(n,m) = \\mathrm{Ackermann}(n-1,1) $; für $m=0$  \n",
    "$ \\mathrm{Ackermann}(n,m) = $ \n",
    "$ \\mathrm{Ackermann}(n-1,\\mathrm{Ackermann}(n,m-1))$\n",
    "; für $m \\neq 0, n\\neq 0$\n",
    "\n",
    "Diese sollt ihr nun implementieren und dem Nutzer die Möglichkeit geben Ackermann(n, m) geben für ein von ihm gewähltes (n, m) zu berechnen. (Zum austesten sollten n, m < 4 gewählt werden, da die Ackermannfunktion eine hohe Komplexität aufweist.)"
   ]
  },
  {
   "cell_type": "code",
   "execution_count": null,
   "metadata": {
    "collapsed": true
   },
   "outputs": [],
   "source": [
    "# Bitte hier programmieren"
   ]
  }
 ],
 "metadata": {
  "kernelspec": {
   "display_name": "Python 3",
   "language": "python",
   "name": "python3"
  },
  "language_info": {
   "codemirror_mode": {
    "name": "ipython",
    "version": 3
   },
   "file_extension": ".py",
   "mimetype": "text/x-python",
   "name": "python",
   "nbconvert_exporter": "python",
   "pygments_lexer": "ipython3",
   "version": "3.6.0"
  }
 },
 "nbformat": 4,
 "nbformat_minor": 2
}
