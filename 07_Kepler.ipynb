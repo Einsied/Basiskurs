{
 "cells": [
  {
   "cell_type": "markdown",
   "metadata": {
    "collapsed": true
   },
   "source": [
    "# Kepler Problem\n",
    "Ein schönes Beispiel für die Anwendung eines iterativen Algorithmus ist das Keplerproblem.\n",
    "Hier kreist ein relativ leichtes Objekt um ein unbewegliches schweres Objekt.\n",
    "Also zum Beispiel die Erde um die Sonne.\n",
    "\n",
    "Um diese Bahn zu bestimmen, müsen wir zuerst etwas Mathe machen.\n",
    "Natürlich brauchen wir Newtons Gravitationsgesetz.\n",
    "$$\\vec{F} = \n",
    "- \\vec{r}\n",
    "\\frac{G \\cdot m  \\cdot M}\n",
    "{| \\vec{r} |^{3}} $$\n",
    "\n",
    "Nun gilt für die Position des Körpers mit der kleinen Masse $m$:\n",
    "$$ \\ddot{\\vec{r}}\n",
    "= - \\vec{r}\n",
    "\\frac{G \\cdot M}\n",
    "{| \\vec{r} |^{3}}$$\n",
    "\n",
    "Dies könnten wir nun analytisch oder durch numerische Integration lösen.\n",
    "\n",
    "Für die numerische Integration verwenden wir das explizite Eulerverfahren.\n",
    "Vereinfacht heißt dies wir nähern unser Integral durch lauter kleine Säulchen an,\n",
    "welche im Gegensatz zu einem richtigen Integral eine endliche Breite haben.\n",
    "Diese Länge bezeichnen wir als Schrittweite $\\Delta t$.\n",
    "\n",
    "Damit erhalten wir aus unseren Doppelintegral zwei Iterationsformeln:\n",
    "$$\\vec{v}_{i+1} = \\vec{v}_{i} \n",
    "- \\vec{r}\n",
    "\\frac{G \\cdot M}{| \\vec{r} |^{3}}\n",
    "\\cdot \\Delta t $$\n",
    "\n",
    "$$\\vec{r}_{i+1} = \\vec{r}_{i} + v_{i-1} \\cdot \\Delta t$$\n",
    "\n",
    "Zu Beginn binden wir numpy für numerische Operationen ein,\n",
    "was die Geschwindigkeit deutlich erhöht.\n",
    "Anschließend binden wir matplotlib.pyplot ein um eine grafische Darstellung zu ermöglichen."
   ]
  },
  {
   "cell_type": "code",
   "execution_count": null,
   "metadata": {
    "collapsed": true
   },
   "outputs": [],
   "source": [
    "import numpy as np # Das Keyword \"as\" erlaubt uns numpy als np zu rufen \n",
    "import matplotlib.pyplot as plt"
   ]
  },
  {
   "cell_type": "markdown",
   "metadata": {},
   "source": [
    "Hier definieren wir die Eingeschaften unseres Systems."
   ]
  },
  {
   "cell_type": "code",
   "execution_count": null,
   "metadata": {
    "collapsed": true
   },
   "outputs": [],
   "source": [
    "mg = 1.      # Masse große Zentralmasse im Ursprung mal Gravitationskonstanten\n",
    "tau = 0.04   # delta time Zeitschritt\n",
    "ngrid = 155  # Anzahl der Datenpunkte / Iterationsschritte\n",
    "r0 = [0.,-1.] # Startpunkt (Randbedingung DGL)\n",
    "v0 = [1.,0.]  # Startgeschwindikgeit (Randbedingung DGL)"
   ]
  },
  {
   "cell_type": "markdown",
   "metadata": {},
   "source": [
    "Die folgenden zwei Blöcke bereiten die Arrays vor,\n",
    "in welche wir die Ergebnisse eintragen werden."
   ]
  },
  {
   "cell_type": "code",
   "execution_count": null,
   "metadata": {
    "collapsed": true
   },
   "outputs": [],
   "source": [
    "rlist = np.ndarray((ngrid,2)) # Array für Ort\n",
    "vlist = np.ndarray((ngrid,2)) # Array für Geschwindigkeit"
   ]
  },
  {
   "cell_type": "code",
   "execution_count": null,
   "metadata": {
    "collapsed": true
   },
   "outputs": [],
   "source": [
    "rlist[0,0] = r0[0]  # Startbedingungen in Array kopieren\n",
    "rlist[0,1] = r0[1]\n",
    "vlist[0,0] = v0[0]\n",
    "vlist[0,1] = v0[1]"
   ]
  },
  {
   "cell_type": "markdown",
   "metadata": {},
   "source": [
    "Der nächste Block führt die Iteration für jede Koordiante aus.\n",
    "Hier sind die einzelnen Zeilen noch einmal als mathematische Formeln aufgeführt:\n",
    "$$\\textrm{nd} = \\sqrt{\n",
    "    \\vec{r}_{i-1, x}^{2} + \\vec{r}_{i-1, y}^{2} \n",
    "}^{2}$$\n",
    "$$\\vec{v}_{i,x} = \n",
    "\\vec{v}_{i-1,x} - \n",
    "\\frac{M \\cdot G \\cdot \\Delta \\tau \\cdot \\vec{r}_{i-1,x}}\n",
    "{\\textrm{nd}}$$\n",
    "$$\\vec{v}_{i,y} = \n",
    "\\vec{v}_{i-1,y} - \n",
    "\\frac{M \\cdot G \\cdot \\Delta \\tau \\cdot \\vec{r}_{i-1,y}}\n",
    "{\\textrm{nd}}$$\n",
    "$$\\vec{r}_{i,x} = \\vec{r}_{i-1,x} + \\vec{r}_{i-1,x} \\Delta \\tau $$\n",
    "$$\\vec{r}_{i,y} = \\vec{r}_{i-1,y} + \\vec{r}_{i-1,y} \\Delta \\tau $$"
   ]
  },
  {
   "cell_type": "code",
   "execution_count": null,
   "metadata": {
    "collapsed": true
   },
   "outputs": [],
   "source": [
    "for i in range(1,ngrid):                                 # Loop Ausrechnen von Ort und Geschindigkeit in kleinen Zeitschritten\n",
    "    nd = (rlist[i-1,0]**2+rlist[i-1,1]**2)**(3/2)        # Hilfsvariable \n",
    "    vlist[i,0] = vlist[i-1,0]+mg*tau*-1.*rlist[i-1,0]/nd\n",
    "    vlist[i,1] = vlist[i-1,1]+mg*tau*-1.*rlist[i-1,1]/nd\n",
    "    rlist[i,0] = rlist[i-1,0]+vlist[i,0]*tau\n",
    "    rlist[i,1] = rlist[i-1,1]+vlist[i,1]*tau"
   ]
  },
  {
   "cell_type": "markdown",
   "metadata": {},
   "source": [
    "Nun nutzen wir matplotlib um die Ergebnisse darzustellen.\n",
    "Hierbei werden die Arrays als x und y Koordinaten interptetiert."
   ]
  },
  {
   "cell_type": "code",
   "execution_count": null,
   "metadata": {
    "collapsed": true
   },
   "outputs": [],
   "source": [
    "plt.scatter(rlist[0:ngrid,0],rlist[0:ngrid,1])\n",
    "plt.show()"
   ]
  }
 ],
 "metadata": {
  "kernelspec": {
   "display_name": "Python 3",
   "language": "python",
   "name": "python3"
  },
  "language_info": {
   "codemirror_mode": {
    "name": "ipython",
    "version": 3
   },
   "file_extension": ".py",
   "mimetype": "text/x-python",
   "name": "python",
   "nbconvert_exporter": "python",
   "pygments_lexer": "ipython3",
   "version": "3.6.0"
  }
 },
 "nbformat": 4,
 "nbformat_minor": 1
}
