{
 "cells": [
  {
   "cell_type": "markdown",
   "metadata": {},
   "source": [
    "# Pakete und Drei-Körper-Problem\n",
    "\n",
    "## Pakete\n",
    "Die Wurzel aus einer Zahl zu ziehen, ist kein triviales, jedoch ein häufiges Problem, mit zahlreichen Lösungen. Man kann die beste Lösung entweder durch das lesen von Fachzeitschriften und langes knobeln selber finden oder man verwendet bereits vorgefertigten Code.\n",
    "\n",
    "Dieser Code wird für Python in sogenannten Paketen verteilt. Dies sind thematische Sammlungen verschiedener Klassen und Funktionen, welche gesammelt zur Verfügung gestellt werden.\n",
    "\n",
    "Wir werden hier die Pakete \"matplotlib\" und \"numpy\" benötigen.\n",
    "Bevor ihr euch aber enthusiastisch an die Lösung wagt sollten wir noch kurz in zwei Beispielen die Verwendung von Paketen erläutern."
   ]
  },
  {
   "cell_type": "code",
   "execution_count": null,
   "metadata": {
    "collapsed": false
   },
   "outputs": [],
   "source": [
    "import numpy # Hier erklären wir dem Interpreter, dass wir gerne numpy verwenden möchten\n",
    "a = 5\n",
    "b = numpy.sqrt(a) # Nun rufen wir die Quadratwurzelfunktion numpys auf (beachtet die Ähnlichkeit zum Methodenaufruf)\n",
    "print(b)"
   ]
  },
  {
   "cell_type": "code",
   "execution_count": null,
   "metadata": {
    "collapsed": false
   },
   "outputs": [],
   "source": [
    "import numpy as np # Hier erklären wir dem Interpreter, dass wir gerne numpy verwenden möchten und es np nennen werden\n",
    "a = 5\n",
    "print(numpy.sqrt(a))"
   ]
  },
  {
   "cell_type": "markdown",
   "metadata": {},
   "source": [
    "## Drei-Körper-Problem\n",
    "Noch in der Fehlerkorrektur."
   ]
  },
  {
   "cell_type": "code",
   "execution_count": null,
   "metadata": {
    "collapsed": false
   },
   "outputs": [],
   "source": []
  },
  {
   "cell_type": "markdown",
   "metadata": {},
   "source": []
  },
  {
   "cell_type": "code",
   "execution_count": null,
   "metadata": {
    "collapsed": false
   },
   "outputs": [],
   "source": []
  },
  {
   "cell_type": "markdown",
   "metadata": {},
   "source": []
  },
  {
   "cell_type": "code",
   "execution_count": null,
   "metadata": {
    "collapsed": false
   },
   "outputs": [],
   "source": []
  },
  {
   "cell_type": "markdown",
   "metadata": {},
   "source": []
  }
 ],
 "metadata": {
  "kernelspec": {
   "display_name": "Python 3",
   "language": "python",
   "name": "python3"
  },
  "language_info": {
   "codemirror_mode": {
    "name": "ipython",
    "version": 3
   },
   "file_extension": ".py",
   "mimetype": "text/x-python",
   "name": "python",
   "nbconvert_exporter": "python",
   "pygments_lexer": "ipython3",
   "version": "3.6.0"
  }
 },
 "nbformat": 4,
 "nbformat_minor": 2
}
