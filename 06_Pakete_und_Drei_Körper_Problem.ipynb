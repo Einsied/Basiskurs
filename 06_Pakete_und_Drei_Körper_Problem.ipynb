{
 "cells": [
  {
   "cell_type": "markdown",
   "metadata": {},
   "source": [
    "# Pakete und Drei-Körper-Problem\n",
    "\n",
    "## Pakete\n",
    "Die Wurzel aus einer Zahl zu ziehen, ist kein triviales, jedoch ein häufiges Problem, mit zahlreichen Lösungen. Man kann die beste Lösung entweder durch das lesen von Fachzeitschriften und langes knobeln selber finden oder man verwendet bereits vorgefertigten Code.\n",
    "\n",
    "Dieser Code wird für Python in sogenannten Paketen verteilt. Dies sind thematische Sammlungen verschiedener Klassen und Funktionen, welche gesammelt zur Verfügung gestellt werden.\n",
    "\n",
    "Wir werden hier die Pakete \"matplotlib\" und \"numpy\" benötigen.\n",
    "Bevor ihr euch aber enthusiastisch an die Lösung wagt sollten wir noch kurz in zwei Beispielen die Verwendung von Paketen erläutern."
   ]
  },
  {
   "cell_type": "code",
   "execution_count": null,
   "metadata": {
    "collapsed": false
   },
   "outputs": [],
   "source": [
    "import numpy # Hier erklären wir dem Interpreter, dass wir gerne numpy verwenden möchten\n",
    "a = 5\n",
    "b = numpy.sqrt(a) # Nun rufen wir die Quadratwurzelfunktion numpys auf (beachtet die Ähnlichkeit zum Methodenaufruf)\n",
    "print(b)"
   ]
  },
  {
   "cell_type": "code",
   "execution_count": null,
   "metadata": {
    "collapsed": false
   },
   "outputs": [],
   "source": [
    "import numpy as np # Hier erklären wir dem Interpreter, dass wir gerne numpy verwenden möchten und es np nennen werden\n",
    "a = 5\n",
    "print(numpy.sqrt(a))"
   ]
  },
  {
   "cell_type": "markdown",
   "metadata": {},
   "source": [
    "## Drei-Körper-Problem\n",
    "Das Drei-Körper-Problem ist zwar analytisch im allgemeinen nicht mehr lösbar.\n",
    "Also müssen wir eine numerische Lösung finden.\n",
    "Mit Python stellt dies keine allzu große Herausforderung da.\n",
    "\n",
    "### Mathematik\n",
    "Bevor wir anfangen können müssen wir unser Problem mathematisch beschreiben.\n",
    "Wir haben drei Körper im schwerelosen Raum, welche sich gegenseitig anziehen.\n",
    "Alle drei Körper haben verschiedene Massen und Positionen, sowie Anfangsgeschwindigkeiten.\n",
    "Damit ihr nachher auch sehen könnt ob das ganze irgendwie Sinn macht beschließen machen wir das ganze 2-dimensional.\n",
    "\n",
    "Zuerst betrachten wir Newtons-Gravitationsgesetz:\n",
    "$$\\vec{F_{j}} = G * m_{j} \\sum^{n}_{i} 2m_{i} \n",
    "\\frac{\\vec{r_{i}}-\\vec{r_{j}}}{| \\vec{r_{i}}- \\vec{r_{j}} |^{3}} $$\n",
    "\n",
    "Als Beispiel betrachten wir die die Kraft auf den ersten Körper:\n",
    "$$F_{1,x} = G * m_{1} * \\left(\n",
    "m_{2} \\frac{\\vec{r_{2,x}}-\\vec{r_{1,x}}}{| \\vec{r_{1}}- \\vec{r_{2}} |^{3}}\n",
    "+\n",
    "m_{3} \\frac{\\vec{r_{3,x}}-\\vec{r_{1,x}}}{| \\vec{r_{1}}- \\vec{r_{3}} |^{3}}\n",
    "\\right)$$\n",
    "$$F_{1,y} = G * m_{1} * \\left(\n",
    "m_{2} \\frac{\\vec{r_{2,y}}-\\vec{r_{1,y}}}{| \\vec{r_{1}}- \\vec{r_{2}} |^{3}}\n",
    "+\n",
    "m_{3} \\frac{\\vec{r_{3,y}}-\\vec{r_{1,y}}}{| \\vec{r_{1}}- \\vec{r_{3}} |^{3}}\n",
    "\\right)$$\n",
    "\n",
    "Nun basteln wir uns eine Funktion, welche die Kraft auf einen Körper mit Hilfe der Position der und Masse der anderen Körper berechnet."
   ]
  },
  {
   "cell_type": "code",
   "execution_count": null,
   "metadata": {
    "collapsed": false
   },
   "outputs": [],
   "source": [
    "import numpy as np\n",
    "# Als Argument übergeben wir die Masse(m) als Fließkommazahlen\n",
    "# und die Positionen(p) in Form einer 2-elementigen Liste. ([px, py])\n",
    "# (Tupel wären besser aber bleiben wir der Einfachheit bei Listen)\n",
    "def F(m1, m2, m3, p1, p2, p3):\n",
    "    r12 = np.sqrt((p1[0]-p2[0])**2+(p1[1]-p2[1])**2)\n",
    "    r13 = np.sqrt((p1[0]-p3[0])**2+(p1[1]-p3[1])**2)\n",
    "    \n",
    "    # G ist die Gravitationskonstante\n",
    "    G = 6.67408*(10**(-11))\n",
    "    # Hier berechnen wir die beiden Komponenten des Kraftvektors\n",
    "    Fx = G * m1 * (m2*(p2[0]-p1[0])/(r12**3)+m3*(p3[0]-p1[0])/(r13**3))\n",
    "    Fy = G * m1 * (m2*(p2[1]-p1[1])/(r12**3)+m3*(p3[1]-p1[1])/(r13**3))\n",
    "    # Nun geben wir den Kraftvektor als Liste zurück\n",
    "    return [Fx, Fy]"
   ]
  },
  {
   "cell_type": "markdown",
   "metadata": {},
   "source": [
    "Nun kennen wir die Kraft, welche im statischen Fall auf einen Körper wirkt.\n",
    "Um nun unser Problem zu lösen müssen wir diese in eine Geschwindigkeit und anschließend in eine Positionsänderung übersetzen.\n",
    "\n",
    "Hierfür verwenden wir das explizite Eulerverfahren. Vereinfacht heißt die wir nähern unser Integral durch lauter kleine Säulchen an, welche im Gegensatz zu einem richtigen Integral eine endliche Länge haben.\n",
    "Diese Länge bezeichnen wir als Schrittweite $(T)$.\n",
    "\n",
    "Mit dieser berechnen wir aus der alten Geschwindigkeit die neue Position und aus der alten Position mittels der Kraft die neue Geschwindigkeit."
   ]
  },
  {
   "cell_type": "code",
   "execution_count": null,
   "metadata": {
    "collapsed": false
   },
   "outputs": [],
   "source": [
    "# Als Argumente übergeben wir die Position(p) und die Geschwindigkeit(v)\n",
    "# als Listen, sowie die Schrittgröße(T)\n",
    "def new_p(p, v, T):\n",
    "    px = p[0] + v[0] * T\n",
    "    py = p[1] + v[1] * T\n",
    "    # Nun geben wir die neue Position als Liste zurück\n",
    "    return[px,py]\n",
    "\n",
    "# Für die Geschwindigkeit verfahren wir analog,\n",
    "# müssen jedoch die Massen berücksichtigen\n",
    "def new_v(v, F, m, T):\n",
    "    vx = v[0] + F[0] * T / m\n",
    "    vy = v[1] + F[1] * T / m\n",
    "    return [vx, vy]"
   ]
  },
  {
   "cell_type": "markdown",
   "metadata": {},
   "source": [
    "Jetzt müssen wir das ganze nur noch in eine Schleife stecken und die Ergebnisse in einer Liste festhalten.  \n",
    "(Die Zellen mit den Funktionen sollten einmal ausgeführt werden, sodass auf die Funktionen zurückgegriffen werden kann)"
   ]
  },
  {
   "cell_type": "code",
   "execution_count": null,
   "metadata": {
    "collapsed": false
   },
   "outputs": [],
   "source": [
    "# Zuerst initieren wir die Masse unsere Körper\n",
    "m1 = 1.988*(10**30)\n",
    "m2 = 5.974*(10**24)\n",
    "m3 = 6.419*(10**23)\n",
    "\n",
    "# Dann deren Position\n",
    "p1i = [0, 0]\n",
    "p2i = [0, 1.000 * (10 ** 11)]\n",
    "p3i = [0, -2.280 * (10 ** 11)]\n",
    "\n",
    "# Nun ihre Geschwindigkeiten\n",
    "v1 = [0, 0]\n",
    "v2 = [2.978*(10**4), 0]\n",
    "v3 = [2.413*(10**4), 0]\n",
    "\n",
    "# Die letzte Konstante ist die Gravitationskonstante, welche wir hier statt\n",
    "# in der Funktion definieren um alles übersichtlicher zu gstalten\n",
    "G = 6.67408*(10**(-11))\n",
    "\n",
    "# Dann initieren wir leere Listen um die Positionen festzuhalten.\n",
    "px1 = [p1i[0]]\n",
    "py1 = [p1i[1]]\n",
    "px2 = [p2i[0]]\n",
    "py2 = [p2i[1]]\n",
    "px3 = [p3i[0]]\n",
    "py3 = [p3i[1]]\n",
    "\n",
    "# Die letzten Fragen die wir beantworten sollten ist wie lange wollen\n",
    "# wir simulieren und wie viele Schritte wollen wir simulieren.\n",
    "Time = 3.154 * (10**7)*2\n",
    "Schritte = 100000\n",
    "# Aus der Länge der Simulation und Anzahl der Schritte können wir nun die\n",
    "# zeitliche Länge eines Simulationsschritts berechnen\n",
    "T = Time/Schritte\n",
    "\n",
    "for i in range(0, Schritte, 1):\n",
    "    # Wir beginnen mit der Extraktion der Positionen aus den Listen\n",
    "    p1 = [px1[i], py1[i]]\n",
    "    p2 = [px2[i], py2[i]]\n",
    "    p3 = [px3[i], py3[i]]\n",
    "    \n",
    "    # Da wir die Geschwindigkeiten schon kennen berechnen wir gleich\n",
    "    # die Positionen für den nächsten Durchlauf\n",
    "    new_p1 = new_p(p1, v1, T)\n",
    "    px1.append(new_p1[0])\n",
    "    py1.append(new_p1[1])\n",
    "    new_p2 = new_p(p2, v2, T)\n",
    "    px2.append(new_p2[0])\n",
    "    py2.append(new_p2[1])\n",
    "    new_p3= new_p(p3, v3, T)\n",
    "    px3.append(new_p3[0])\n",
    "    py3.append(new_p3[1])\n",
    "    \n",
    "    # Nun berechnen mit den alten Positionen die Kräfte\n",
    "    F1 = F(m1, m2, m3, p1, p2, p3)\n",
    "    F2 = F(m2, m1, m3, p2, p1, p3)\n",
    "    F3 = F(m3, m2, m1, p3, p2, p1)\n",
    "    \n",
    "    # Als letztes müssen wir noch die Geschwindigkeiten auf den\n",
    "    # neuste Stand bringen\n",
    "    v1 = new_v(v1, F1, m1, T)\n",
    "    v2 = new_v(v2, F2, m2, T)\n",
    "    v3 = new_v(v3, F3, m3, T)   \n",
    "    \n",
    "# Jetzt müssen wir das Ergebnis nur noch darstellen\n",
    "# Zuerst übergeben wir pyplot.plot alle Listen die geplottet werden sollen\n",
    "plt.plot(px1, py1, px2, py2, px3, py3)\n",
    "# Dann erklären wir ihm das wir gleich lange Achsen wollen...\n",
    "plt.axis('equal')\n",
    "# ... und lassen uns das Ergebniss anzeigen\n",
    "plt.show()"
   ]
  },
  {
   "cell_type": "markdown",
   "metadata": {},
   "source": [
    "Damit haben wir mal eben kurz eine ganz akteptable Näherung für die Bahnen von Erde, Mars und Sonne berechnet, was analytisch unmöglich gewesen wäre."
   ]
  }
 ],
 "metadata": {
  "kernelspec": {
   "display_name": "Python 3",
   "language": "python",
   "name": "python3"
  },
  "language_info": {
   "codemirror_mode": {
    "name": "ipython",
    "version": 3
   },
   "file_extension": ".py",
   "mimetype": "text/x-python",
   "name": "python",
   "nbconvert_exporter": "python",
   "pygments_lexer": "ipython3",
   "version": "3.6.0"
  }
 },
 "nbformat": 4,
 "nbformat_minor": 2
}
