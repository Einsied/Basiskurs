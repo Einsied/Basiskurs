{
 "cells": [
  {
   "cell_type": "markdown",
   "metadata": {},
   "source": [
    "Diese Notebooks dienen als Begeleitmaterial für die Python3 Materialien im Basiskurs.\n",
    "# Erste Schritte in Python\n",
    "## Variablen\n",
    "In Python wird der Arbeitsspeicher mit Variablen bedient. Diese speichern Informationen und verweisen auf eine oder mehrere Speicherzellen. Als Beispiel erschaffen wir eine Variable „a“ mit dem Wert 5."
   ]
  },
  {
   "cell_type": "code",
   "execution_count": null,
   "metadata": {
    "collapsed": true
   },
   "outputs": [],
   "source": [
    "a = 5"
   ]
  },
  {
   "cell_type": "markdown",
   "metadata": {},
   "source": [
    "## Simple Operatoren\n",
    "Die Werte von Variablen werden mittels Operatoren verändert. Der zentrale Operator ist der Zuweisungoperator „=“, welchen wir bereits verwendet haben. Dieser erfüllt nicht die Funktion des mathematischen =, sonder des mathematischen Zuweisungsoperators <-, welcher der Variablen rechts den Wert des Ausdruckes links zuweist. Betrachten wir nun folgenden Code, so wird zuerst „a“ der Wert 5, dann „b“ der Wert 6. Am Ende wird „a“ der Wert von „b“ zugewiesen, also 6."
   ]
  },
  {
   "cell_type": "code",
   "execution_count": null,
   "metadata": {
    "collapsed": true
   },
   "outputs": [],
   "source": [
    "a = 5\n",
    "b = 6\n",
    "a = b"
   ]
  },
  {
   "cell_type": "markdown",
   "metadata": {},
   "source": [
    "Der Zuweisungsoperator darf nur einmal pro Ausdruck vorkommen.\n",
    "\n",
    "**In den meisten Programmiersprachen entspricht „=“ ←, weshalb links von „=“ genau eine Variable stehen sollte.**\n",
    "\n",
    "Weiter Operatoren sind der Additionsoperator „+“, der Subtraktionsoperator „-“, der Multiplikationssoperator „*“ 1 und der Divisionsoperator „/“. Diese funktionieren fast genau wie die mathematischen Operatoren. Betrachten wir nun folgendes Beispiel:"
   ]
  },
  {
   "cell_type": "code",
   "execution_count": null,
   "metadata": {
    "collapsed": false
   },
   "outputs": [],
   "source": [
    "a = 14\n",
    "b = 5 + 6\n",
    "c = 2 * 3 + 4 / 2\n",
    "d = b * c"
   ]
  },
  {
   "cell_type": "markdown",
   "metadata": {},
   "source": [
    "„a“ wird also die Summe aus 14 zugewiesen.\n",
    "„b“ wird also die Summe aus 5 6 zugewiesen.\n",
    "„c“ wird also die Summe aus 5 · 3 und 4/2 zugewiesen.\n",
    "„d“ wird also die Summe aus „b“(11) und „c“(8) zugewiesen\n",
    "\n",
    "## Datentypen\n",
    "\n",
    "Leider sind nicht alle Variablen gleich, da unterschiedliche Informationen unterschiedlich abgelegt werden. So sehen Fließkommazahlen im Arbeitsspeicher anders aus als ganze Zahlen und müssen um miteinander verrechnet werden zu können umgewandelt werden. Python macht die automatisch man kann jedoch auch einen bestimmten Datentyp vorgeben.\n",
    "Betrachten wir als Beispiel die Addition."
   ]
  },
  {
   "cell_type": "code",
   "execution_count": null,
   "metadata": {
    "collapsed": true
   },
   "outputs": [],
   "source": [
    "a = 5.6 + 4\n",
    "b = int (5.6) + 4"
   ]
  },
  {
   "cell_type": "markdown",
   "metadata": {},
   "source": [
    "Für „a“ wird 5.6 + 4 als Fließkommazahladdition behandelt, das Ergebnis ist die Fließkommazahl 9.6. Für „b“ wird 5.6 mit „int()“ in einen integer umgewandelt (fach. cast). Dabei werden die Nachkommastellen abgeschnitten und der Ausdruck intern umgewandelt in 5 + 4, womit „b“ den Wert 9 erhält. Für den Umgang mit Python solltet ihr folgende Variablen/Datentypen kennen.\n",
    "* Fließkommazahlen (*float*)\n",
    "* Ganze Zahlen (*integer* )\n",
    "* Boolesche Variablen (*bool*)\n",
    "* Zeichenketten (*string*)\n",
    "* Komplexe Datentypen (z.B. list)\n",
    "Boolesche Variablen sind Wahrheitswerte. Sie sind entweder wahr oder falsch. Zeichenketten sind Beispielsweise „Klaus“ oder „Hello World“. Komplexe Daten typen sind ein Sammelbegriff für eine Vielzahl teilweise auch selbst definierter Datentypen, welche ihr erst deutlich später verstehen müsst.\n",
    "\n",
    "**Variablen haben Datentypen. Um zwei Variablen unterschiedlichen Typs miteinander zu verrechnen müssen diese in denselben Datentyp umgewandelt werden, dies geschieht bei vielen Sprachen automatisch. Hierbei können Probleme, wie zum Beispiel Rundungsfehler auftreten.**\n",
    "\n",
    "## Ausgabe\n",
    "Jetzt wissen wir, wie man Variablen verändert und Ausdrücke aufstellt, haben jedoch noch keine Möglichkeit mit unserem Programm zu interagieren. Hierfür nutzen wir die „print()“-Funktion.\n",
    "Wie das genau funktioniert ist jetzt noch nicht so relevant, es genügt zu wissen, dass „print()“ alles innerhalb der Klammern auswertet und ausgibt.\n",
    "Wie genau das funktioniert, kann man besser an einem Beispiel veranschau-\n",
    "lichen:"
   ]
  },
  {
   "cell_type": "code",
   "execution_count": null,
   "metadata": {
    "collapsed": false
   },
   "outputs": [],
   "source": [
    "a = 9.4\n",
    "Name = \"Klaus\"\n",
    "print(5)\n",
    "print(1+3)\n",
    "print(a)\n",
    "print( int(a))\n",
    "print(Name)\n",
    "print(\"Hello World\")"
   ]
  },
  {
   "cell_type": "markdown",
   "metadata": {},
   "source": [
    "Erst werden zwei Variablen Werte zugewiesen. Dann wird die „print()“-Funktion mit dem Argument 5 gerufen. Also gibt die „print()“-Funktion 5 aus. Anschließend wird sie mit dem Argument 3 + 1 gerufen und gibt deshalb 4 zurück. Rufen wir die „print()“-Funktion mit dem Argument „a“ so wird der Wert dieser Variablen zurückgegeben, also 9.4. Rufen wir die „print()“-Funktion mit dem Argument „int(a)“ so wird der Wert dieser Variablen in einen Integer gecastet, in diesem Falle 9, welcher dann zurückgegeben wird. Nachdem gleichen Muster wird auch die Variable „Name“ und der String „Hello World“ auf die Konsole ausgegeben. Die Anführungszeichen gehen hierbei verloren, da sie Teil der Sprache sind sie Teil der Sprache sind und es dem Interpreter ermöglichen Strings von Variablen zu unterscheiden. Sie können wie alle durch die Sprache belegten Zeichen mittels Escape-characters in Strings verwendet werden.\n",
    "**Merke:\n",
    "Die „print()“-Funktion gibt das Argument zwischen den Klammern auf die Kon-\n",
    "sole aus.**"
   ]
  },
  {
   "cell_type": "markdown",
   "metadata": {},
   "source": [
    "## Erster Pythonskript\n",
    "Für diese Übung solltet ihr irgendeine Form eines Python-Interpreters verwenden. Es ist egal ob ihr einen Skript in Form einer Text-Datei mit der Endung „.py“ schreibt und diese dann dem Interpreter übergebt. Eure Befehle direkt direkt eingebt oder dieses Jupyter-notebook verwendet. Um mit den grundlegenden Befehlen und dem Umgang mit Variablen etwas vertrauter zu werden solltet ihr:\n",
    "1. Eine Zahl am Anfang des Skriptes eingeben.\n",
    "2. Auf diese Zahl 11 addieren.\n",
    "3. Das Ergebnis durch 2 dividieren.\n",
    "4. Eine beliebige weitere Operation durchführen.\n",
    "5. Das Ergebnis auf die Konsole zurückgeben.\n",
    "An sich könnt ihr einfach aus den Code-Beispielen abschreiben und anschließend selber etwas damit herumspielen."
   ]
  },
  {
   "cell_type": "code",
   "execution_count": null,
   "metadata": {
    "collapsed": true
   },
   "outputs": [],
   "source": [
    "# Bitte hier programmieren"
   ]
  }
 ],
 "metadata": {
  "kernelspec": {
   "display_name": "Python 3",
   "language": "python",
   "name": "python3"
  },
  "language_info": {
   "codemirror_mode": {
    "name": "ipython",
    "version": 3
   },
   "file_extension": ".py",
   "mimetype": "text/x-python",
   "name": "python",
   "nbconvert_exporter": "python",
   "pygments_lexer": "ipython3",
   "version": "3.6.0"
  }
 },
 "nbformat": 4,
 "nbformat_minor": 2
}
