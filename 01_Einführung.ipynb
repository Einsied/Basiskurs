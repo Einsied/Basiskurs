{
 "cells": [
  {
   "cell_type": "markdown",
   "metadata": {},
   "source": [
    "# Einführung\n",
    "Ziel dieses Kurses ist es, euch genug beizubringen, damit ihr anschließend in der Lage seid, euch in Python oder andere Programmiersprachen einzulesen.\n",
    "Es ist für Anfänger gedacht und opfert Korrektheit, um die Verständlichkeit zu erhöhen.\n",
    "Zuerst sollten wir uns mit den Aufgaben eines Rechners beschäftigen. Im Grunde soll ein Rechner Informationen Speichern und verarbeiten können.\n",
    "## Arbeitsspeicher\n",
    "Für die Speicherung verwendet man einen flüchtigen Kurzzeitspeicher und einen nicht flüchtigen Langzeitspeicher. Um Programmiersprachen zu erlernen muss man nicht notwendigerweise die Funktion des Langzeitspeichers verstehen. Ein grobes Verständnis des Kurzzeitspeichers ist jedoch durchaus hilfreich. Dieser besteht im Grunde aus nummerierten Zellen, welche eine bestimmte Menge Information enthalten können.\n",
    "Die Nummer wird als Adresse, in einigen Fällen auch als Referenz\n",
    "oder Zeiger (*pointer*) bezeichnet. Sie ermöglicht einen direkten Zugriff auf die abgelegte Information. Ist eine Information zu groß für eine einzige Speicherzelle kann sie auch auf mehrere Speicherzellen verteilt werden. Nutzt man nun aus, dass auch eine Adresse eine Information ist, welche in einer Speicherzelle abgelegt werden kann, so kann man auch sehr komplexe Informationen ablegen.\n",
    "\n",
    "**Der Arbeitsspeicher besteht aus Speicherzellen, auf welche man über Adressen zugreift.**\n",
    "## Prozessor und Stack\n",
    "Nun möchten wir diese Informationen natürlich noch verarbeiten. Die internen Mechanismen eines Binärprozessors sind zwar sehr interessant, für das Erlernen einer Skriptsprache wie Python jedoch nicht relevant. Für uns soll es genügen, dass ein Prozessor immer genau eine Operation ausführen kann, in der Regel mit dem Inhalt zwei verschiedener Speicherzellen. Diese Operationen werden meist atomare Operationen genannt und beschränken sich auf addieren, substrahieren, vergleichen, invertieren und ähnliches. Um nun komplexere Aufgaben zu lösen werden mehrere dieser Operationen benötigt, welche auf einem Stapel (*Stack*) abgelegt werden. Der Prozessor führt nun jeweils die vorderste dieser Anweisungen aus und legt falls er die Anweisung dazu erhält eine neune Anweisung ans hintere Ende des Stapels.\n",
    "Da ein Prozessor immer nur eine Aufgabe auf einmal bewältigen kann, bestehen auch alle Programmiersprachen aus aufeinanderfolgenden Befehlen, welche nacheinander abgearbeitet werden.\n",
    "\n",
    "**Programmiersprachen bestehen aus mehreren aufeinanderfolgenden Anweisun-\n",
    "gen, welche nacheinander abgearbeitet werden**"
   ]
  }
 ],
 "metadata": {
  "kernelspec": {
   "display_name": "Python 3",
   "language": "python",
   "name": "python3"
  },
  "language_info": {
   "codemirror_mode": {
    "name": "ipython",
    "version": 3
   },
   "file_extension": ".py",
   "mimetype": "text/x-python",
   "name": "python",
   "nbconvert_exporter": "python",
   "pygments_lexer": "ipython3",
   "version": "3.6.0"
  }
 },
 "nbformat": 4,
 "nbformat_minor": 2
}
